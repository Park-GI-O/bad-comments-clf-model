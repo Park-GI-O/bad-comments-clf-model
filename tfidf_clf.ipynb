{
 "cells": [
  {
   "cell_type": "code",
   "execution_count": 1,
   "id": "136300b8",
   "metadata": {},
   "outputs": [],
   "source": [
    "# !pip install lightgbm\n",
    "# !pip install xgboost"
   ]
  },
  {
   "cell_type": "code",
   "execution_count": 2,
   "id": "24e1335f",
   "metadata": {},
   "outputs": [],
   "source": [
    "import pandas as pd\n",
    "import time\n",
    "import random\n",
    "import warnings\n",
    "\n",
    "from konlpy.tag import Okt\n",
    "from lightgbm import LGBMClassifier\n",
    "from xgboost import XGBClassifier\n",
    "\n",
    "from sklearn.ensemble import RandomForestClassifier, GradientBoostingClassifier, AdaBoostClassifier\n",
    "from sklearn.linear_model import LogisticRegression\n",
    "from sklearn.tree import DecisionTreeClassifier\n",
    "from sklearn.metrics import f1_score, accuracy_score, recall_score\n",
    "from sklearn.feature_extraction.text import TfidfVectorizer\n",
    "from sklearn.model_selection import train_test_split\n",
    "warnings.filterwarnings('ignore')"
   ]
  },
  {
   "cell_type": "code",
   "execution_count": 3,
   "id": "f20d663b",
   "metadata": {},
   "outputs": [],
   "source": [
    "okt = Okt()"
   ]
  },
  {
   "cell_type": "code",
   "execution_count": 4,
   "id": "093f7cf7",
   "metadata": {},
   "outputs": [],
   "source": [
    "train = pd.read_csv('data/train.csv')\n",
    "test = pd.read_csv('data/test.csv')"
   ]
  },
  {
   "cell_type": "code",
   "execution_count": 5,
   "id": "cf92bafc",
   "metadata": {},
   "outputs": [],
   "source": [
    "def tokenizer(text) :\n",
    "    tokens = okt.morphs(text)\n",
    "    return tokens"
   ]
  },
  {
   "cell_type": "code",
   "execution_count": 6,
   "id": "48388686",
   "metadata": {},
   "outputs": [],
   "source": [
    "tfidf_vect = TfidfVectorizer(tokenizer=tokenizer, ngram_range=(1,2), min_df=5, max_df=0.9, sublinear_tf=True, max_features=50000)\n",
    "tfidf_vect.fit(train['content'])\n",
    "tfidf_matrix_train = tfidf_vect.transform(train['content'])"
   ]
  },
  {
   "cell_type": "markdown",
   "id": "b25ca83a",
   "metadata": {},
   "source": [
    "# LGBM"
   ]
  },
  {
   "cell_type": "code",
   "execution_count": 7,
   "id": "201a54b6",
   "metadata": {},
   "outputs": [
    {
     "data": {
      "text/plain": [
       "LGBMClassifier(n_estimators=500)"
      ]
     },
     "execution_count": 7,
     "metadata": {},
     "output_type": "execute_result"
    }
   ],
   "source": [
    "lgbm_clf = LGBMClassifier(n_estimators=500)\n",
    "lgbm_clf.fit(tfidf_matrix_train, train['label'])"
   ]
  },
  {
   "cell_type": "code",
   "execution_count": 8,
   "id": "1dae6d8a",
   "metadata": {},
   "outputs": [],
   "source": [
    "tfidf_matrix_test = tfidf_vect.transform(test['content'])\n",
    "pred_lgbm = lgbm_clf.predict(tfidf_matrix_test)"
   ]
  },
  {
   "cell_type": "code",
   "execution_count": 9,
   "id": "451b9b19",
   "metadata": {},
   "outputs": [
    {
     "name": "stdout",
     "output_type": "stream",
     "text": [
      "accuracy score :  0.8040603464332278\n",
      "f1_score :  0.7957281553398058\n",
      "recall :  0.7659813084112149\n"
     ]
    }
   ],
   "source": [
    "print(\"accuracy score : \", accuracy_score(test['label'], pred_lgbm))\n",
    "print(\"f1_score : \", f1_score(pred_lgbm, test['label']))\n",
    "print(\"recall : \", recall_score(pred_lgbm, test['label']))"
   ]
  },
  {
   "cell_type": "markdown",
   "id": "b24cfd8d",
   "metadata": {},
   "source": [
    "# DecisionTree"
   ]
  },
  {
   "cell_type": "code",
   "execution_count": 10,
   "id": "0bce0a22",
   "metadata": {},
   "outputs": [
    {
     "data": {
      "text/plain": [
       "DecisionTreeClassifier(max_depth=2, random_state=42)"
      ]
     },
     "execution_count": 10,
     "metadata": {},
     "output_type": "execute_result"
    }
   ],
   "source": [
    "decision_clf = DecisionTreeClassifier(max_depth=2, random_state=42)\n",
    "decision_clf.fit(tfidf_matrix_train, train['label'])"
   ]
  },
  {
   "cell_type": "code",
   "execution_count": 11,
   "id": "e8f246de",
   "metadata": {},
   "outputs": [],
   "source": [
    "pred_dt = decision_clf.predict(tfidf_matrix_test)"
   ]
  },
  {
   "cell_type": "code",
   "execution_count": 12,
   "id": "8ab74444",
   "metadata": {},
   "outputs": [
    {
     "name": "stdout",
     "output_type": "stream",
     "text": [
      "accuracy score :  0.5798100204879866\n",
      "f1_score :  0.6544117647058825\n",
      "recall :  0.5270170244263509\n"
     ]
    }
   ],
   "source": [
    "print(\"accuracy score : \", accuracy_score(test['label'], pred_dt))\n",
    "print(\"f1_score : \", f1_score(pred_dt, test['label']))\n",
    "print(\"recall : \", recall_score(pred_dt, test['label']))"
   ]
  },
  {
   "cell_type": "markdown",
   "id": "6086912a",
   "metadata": {},
   "source": [
    "# LogisticRegression"
   ]
  },
  {
   "cell_type": "code",
   "execution_count": 13,
   "id": "a66cabc6",
   "metadata": {},
   "outputs": [
    {
     "data": {
      "text/plain": [
       "LogisticRegression(random_state=42)"
      ]
     },
     "execution_count": 13,
     "metadata": {},
     "output_type": "execute_result"
    }
   ],
   "source": [
    "lr = LogisticRegression(random_state=42)\n",
    "lr.fit(tfidf_matrix_train, train['label'])"
   ]
  },
  {
   "cell_type": "code",
   "execution_count": 14,
   "id": "e6f944b2",
   "metadata": {},
   "outputs": [],
   "source": [
    "pred_lr = lr.predict(tfidf_matrix_test)"
   ]
  },
  {
   "cell_type": "code",
   "execution_count": 15,
   "id": "cdbff128",
   "metadata": {},
   "outputs": [
    {
     "name": "stdout",
     "output_type": "stream",
     "text": [
      "accuracy score :  0.8005215123859192\n",
      "f1_score :  0.7884653367568636\n",
      "recall :  0.7712519319938176\n"
     ]
    }
   ],
   "source": [
    "print(\"accuracy score : \", accuracy_score(test['label'], pred_lr))\n",
    "print(\"f1_score : \", f1_score(pred_lr, test['label']))\n",
    "print(\"recall : \", recall_score(pred_lr, test['label']))"
   ]
  },
  {
   "cell_type": "code",
   "execution_count": 16,
   "id": "955d7855",
   "metadata": {},
   "outputs": [],
   "source": [
    "result = []\n",
    "\n",
    "for n in range(0, len(test['label'])) :\n",
    "    if pred_lgbm[n] != test['label'][n] :\n",
    "        result.append(n)"
   ]
  },
  {
   "cell_type": "code",
   "execution_count": 17,
   "id": "d1a1b14c",
   "metadata": {},
   "outputs": [
    {
     "data": {
      "text/plain": [
       "1052"
      ]
     },
     "execution_count": 17,
     "metadata": {},
     "output_type": "execute_result"
    }
   ],
   "source": [
    "len(result) # 예측이 틀린 값들의 갯수"
   ]
  },
  {
   "cell_type": "code",
   "execution_count": 18,
   "id": "2aaffe41",
   "metadata": {},
   "outputs": [],
   "source": [
    "sample = random.choices(population=result, k=5000)"
   ]
  },
  {
   "cell_type": "code",
   "execution_count": 20,
   "id": "69462302",
   "metadata": {},
   "outputs": [
    {
     "data": {
      "text/html": [
       "<div>\n",
       "<style scoped>\n",
       "    .dataframe tbody tr th:only-of-type {\n",
       "        vertical-align: middle;\n",
       "    }\n",
       "\n",
       "    .dataframe tbody tr th {\n",
       "        vertical-align: top;\n",
       "    }\n",
       "\n",
       "    .dataframe thead th {\n",
       "        text-align: right;\n",
       "    }\n",
       "</style>\n",
       "<table border=\"1\" class=\"dataframe\">\n",
       "  <thead>\n",
       "    <tr style=\"text-align: right;\">\n",
       "      <th></th>\n",
       "      <th>0</th>\n",
       "    </tr>\n",
       "  </thead>\n",
       "  <tbody>\n",
       "    <tr>\n",
       "      <th>0</th>\n",
       "      <td>0</td>\n",
       "    </tr>\n",
       "    <tr>\n",
       "      <th>1</th>\n",
       "      <td>0</td>\n",
       "    </tr>\n",
       "    <tr>\n",
       "      <th>2</th>\n",
       "      <td>1</td>\n",
       "    </tr>\n",
       "    <tr>\n",
       "      <th>3</th>\n",
       "      <td>1</td>\n",
       "    </tr>\n",
       "    <tr>\n",
       "      <th>4</th>\n",
       "      <td>1</td>\n",
       "    </tr>\n",
       "    <tr>\n",
       "      <th>...</th>\n",
       "      <td>...</td>\n",
       "    </tr>\n",
       "    <tr>\n",
       "      <th>1047</th>\n",
       "      <td>0</td>\n",
       "    </tr>\n",
       "    <tr>\n",
       "      <th>1048</th>\n",
       "      <td>1</td>\n",
       "    </tr>\n",
       "    <tr>\n",
       "      <th>1049</th>\n",
       "      <td>1</td>\n",
       "    </tr>\n",
       "    <tr>\n",
       "      <th>1050</th>\n",
       "      <td>1</td>\n",
       "    </tr>\n",
       "    <tr>\n",
       "      <th>1051</th>\n",
       "      <td>0</td>\n",
       "    </tr>\n",
       "  </tbody>\n",
       "</table>\n",
       "<p>1052 rows × 1 columns</p>\n",
       "</div>"
      ],
      "text/plain": [
       "      0\n",
       "0     0\n",
       "1     0\n",
       "2     1\n",
       "3     1\n",
       "4     1\n",
       "...  ..\n",
       "1047  0\n",
       "1048  1\n",
       "1049  1\n",
       "1050  1\n",
       "1051  0\n",
       "\n",
       "[1052 rows x 1 columns]"
      ]
     },
     "execution_count": 20,
     "metadata": {},
     "output_type": "execute_result"
    }
   ],
   "source": [
    "df = pd.DataFrame(pred_lgbm[result])\n",
    "df"
   ]
  },
  {
   "cell_type": "code",
   "execution_count": 21,
   "id": "068a0e0d",
   "metadata": {},
   "outputs": [
    {
     "data": {
      "text/html": [
       "<div>\n",
       "<style scoped>\n",
       "    .dataframe tbody tr th:only-of-type {\n",
       "        vertical-align: middle;\n",
       "    }\n",
       "\n",
       "    .dataframe tbody tr th {\n",
       "        vertical-align: top;\n",
       "    }\n",
       "\n",
       "    .dataframe thead th {\n",
       "        text-align: right;\n",
       "    }\n",
       "</style>\n",
       "<table border=\"1\" class=\"dataframe\">\n",
       "  <thead>\n",
       "    <tr style=\"text-align: right;\">\n",
       "      <th></th>\n",
       "      <th>content</th>\n",
       "      <th>label</th>\n",
       "      <th>error</th>\n",
       "    </tr>\n",
       "  </thead>\n",
       "  <tbody>\n",
       "    <tr>\n",
       "      <th>9</th>\n",
       "      <td>여자가 아깝지</td>\n",
       "      <td>1</td>\n",
       "      <td>0</td>\n",
       "    </tr>\n",
       "    <tr>\n",
       "      <th>11</th>\n",
       "      <td>흉기차 사라고 광고하네 ㅋㅋ 80 80결함투성 9천 되는 가격에 흉기차 사는 베타테...</td>\n",
       "      <td>1</td>\n",
       "      <td>0</td>\n",
       "    </tr>\n",
       "    <tr>\n",
       "      <th>13</th>\n",
       "      <td>야한게 아니라 더러웠다고 ㅎㅎㅎ 그래도 헤어드라이기 본인만쓰면괜춘해요</td>\n",
       "      <td>0</td>\n",
       "      <td>1</td>\n",
       "    </tr>\n",
       "    <tr>\n",
       "      <th>29</th>\n",
       "      <td>왜 이제 중국에서 돈벌이 끝났니 참 추잡스럽게 산다</td>\n",
       "      <td>0</td>\n",
       "      <td>1</td>\n",
       "    </tr>\n",
       "    <tr>\n",
       "      <th>58</th>\n",
       "      <td>너무바보같아서 열받드라 짜증나게적당히해야지</td>\n",
       "      <td>0</td>\n",
       "      <td>1</td>\n",
       "    </tr>\n",
       "    <tr>\n",
       "      <th>...</th>\n",
       "      <td>...</td>\n",
       "      <td>...</td>\n",
       "      <td>...</td>\n",
       "    </tr>\n",
       "    <tr>\n",
       "      <th>5342</th>\n",
       "      <td>맴버좀 싹 바꿔라 이제 ㅡㅡ</td>\n",
       "      <td>1</td>\n",
       "      <td>0</td>\n",
       "    </tr>\n",
       "    <tr>\n",
       "      <th>5349</th>\n",
       "      <td>이루 태진아 꼭두각시 말인가</td>\n",
       "      <td>0</td>\n",
       "      <td>1</td>\n",
       "    </tr>\n",
       "    <tr>\n",
       "      <th>5350</th>\n",
       "      <td>ㅆ성과들과 비교가 안되는 자연미 너무 좋다거의 이영애배우급 미모</td>\n",
       "      <td>0</td>\n",
       "      <td>1</td>\n",
       "    </tr>\n",
       "    <tr>\n",
       "      <th>5356</th>\n",
       "      <td>애비엑미가 능력이ㅜ되니밀어주지</td>\n",
       "      <td>0</td>\n",
       "      <td>1</td>\n",
       "    </tr>\n",
       "    <tr>\n",
       "      <th>5357</th>\n",
       "      <td>머리 좀 묶어 주셔요</td>\n",
       "      <td>1</td>\n",
       "      <td>0</td>\n",
       "    </tr>\n",
       "  </tbody>\n",
       "</table>\n",
       "<p>1052 rows × 3 columns</p>\n",
       "</div>"
      ],
      "text/plain": [
       "                                                content  label  error\n",
       "9                                               여자가 아깝지      1      0\n",
       "11    흉기차 사라고 광고하네 ㅋㅋ 80 80결함투성 9천 되는 가격에 흉기차 사는 베타테...      1      0\n",
       "13               야한게 아니라 더러웠다고 ㅎㅎㅎ 그래도 헤어드라이기 본인만쓰면괜춘해요      0      1\n",
       "29                         왜 이제 중국에서 돈벌이 끝났니 참 추잡스럽게 산다      0      1\n",
       "58                              너무바보같아서 열받드라 짜증나게적당히해야지      0      1\n",
       "...                                                 ...    ...    ...\n",
       "5342                                    맴버좀 싹 바꿔라 이제 ㅡㅡ      1      0\n",
       "5349                                    이루 태진아 꼭두각시 말인가      0      1\n",
       "5350                ㅆ성과들과 비교가 안되는 자연미 너무 좋다거의 이영애배우급 미모      0      1\n",
       "5356                                   애비엑미가 능력이ㅜ되니밀어주지      0      1\n",
       "5357                                        머리 좀 묶어 주셔요      1      0\n",
       "\n",
       "[1052 rows x 3 columns]"
      ]
     },
     "execution_count": 21,
     "metadata": {},
     "output_type": "execute_result"
    }
   ],
   "source": [
    "df1 = test.iloc[result]\n",
    "df1['error'] = pred_lgbm[result]\n",
    "df1"
   ]
  },
  {
   "cell_type": "code",
   "execution_count": 22,
   "id": "3a2a6ad2",
   "metadata": {},
   "outputs": [
    {
     "data": {
      "text/html": [
       "<div>\n",
       "<style scoped>\n",
       "    .dataframe tbody tr th:only-of-type {\n",
       "        vertical-align: middle;\n",
       "    }\n",
       "\n",
       "    .dataframe tbody tr th {\n",
       "        vertical-align: top;\n",
       "    }\n",
       "\n",
       "    .dataframe thead th {\n",
       "        text-align: right;\n",
       "    }\n",
       "</style>\n",
       "<table border=\"1\" class=\"dataframe\">\n",
       "  <thead>\n",
       "    <tr style=\"text-align: right;\">\n",
       "      <th></th>\n",
       "      <th>label</th>\n",
       "    </tr>\n",
       "  </thead>\n",
       "  <tbody>\n",
       "    <tr>\n",
       "      <th>0</th>\n",
       "      <td>626</td>\n",
       "    </tr>\n",
       "    <tr>\n",
       "      <th>1</th>\n",
       "      <td>426</td>\n",
       "    </tr>\n",
       "  </tbody>\n",
       "</table>\n",
       "</div>"
      ],
      "text/plain": [
       "   label\n",
       "0    626\n",
       "1    426"
      ]
     },
     "execution_count": 22,
     "metadata": {},
     "output_type": "execute_result"
    }
   ],
   "source": [
    "df1['label'].value_counts().to_frame()"
   ]
  },
  {
   "cell_type": "markdown",
   "id": "e70b3022",
   "metadata": {},
   "source": [
    "# GradientBoostingClassifier"
   ]
  },
  {
   "cell_type": "code",
   "execution_count": 23,
   "id": "13eac719",
   "metadata": {},
   "outputs": [
    {
     "data": {
      "text/plain": [
       "GradientBoostingClassifier(random_state=42)"
      ]
     },
     "execution_count": 23,
     "metadata": {},
     "output_type": "execute_result"
    }
   ],
   "source": [
    "gb_clf = GradientBoostingClassifier(random_state=42)\n",
    "gb_clf.fit(tfidf_matrix_train, train['label'])"
   ]
  },
  {
   "cell_type": "code",
   "execution_count": 24,
   "id": "72c91294",
   "metadata": {},
   "outputs": [],
   "source": [
    "pred_gb = gb_clf.predict(tfidf_matrix_test)"
   ]
  },
  {
   "cell_type": "code",
   "execution_count": 25,
   "id": "3f7e18da",
   "metadata": {},
   "outputs": [
    {
     "name": "stdout",
     "output_type": "stream",
     "text": [
      "accuracy score :  0.6990128515552244\n",
      "f1_score :  0.7162921348314607\n",
      "recall :  0.6333436820863086\n"
     ]
    }
   ],
   "source": [
    "print(\"accuracy score : \", accuracy_score(test['label'], pred_gb))\n",
    "print(\"f1_score : \", f1_score(pred_gb, test['label']))\n",
    "print(\"recall : \", recall_score(pred_gb, test['label']))"
   ]
  },
  {
   "cell_type": "markdown",
   "id": "e098cf3f",
   "metadata": {},
   "source": [
    "# XGBClassifier"
   ]
  },
  {
   "cell_type": "code",
   "execution_count": 30,
   "id": "c0626144",
   "metadata": {},
   "outputs": [
    {
     "name": "stdout",
     "output_type": "stream",
     "text": [
      "[19:56:08] WARNING: ..\\src\\learner.cc:1115: Starting in XGBoost 1.3.0, the default evaluation metric used with the objective 'binary:logistic' was changed from 'error' to 'logloss'. Explicitly set eval_metric if you'd like to restore the old behavior.\n"
     ]
    },
    {
     "data": {
      "text/plain": [
       "XGBClassifier(base_score=0.5, booster='gbtree', colsample_bylevel=1,\n",
       "              colsample_bynode=1, colsample_bytree=1, enable_categorical=False,\n",
       "              gamma=0, gpu_id=-1, importance_type=None,\n",
       "              interaction_constraints='', learning_rate=0.1, max_delta_step=0,\n",
       "              max_depth=3, min_child_weight=1, missing=nan,\n",
       "              monotone_constraints='()', n_estimators=400, n_jobs=8,\n",
       "              num_parallel_tree=1, predictor='auto', random_state=0,\n",
       "              reg_alpha=0, reg_lambda=1, scale_pos_weight=1, subsample=1,\n",
       "              tree_method='exact', validate_parameters=1, verbosity=None)"
      ]
     },
     "execution_count": 30,
     "metadata": {},
     "output_type": "execute_result"
    }
   ],
   "source": [
    "xgb_clf = XGBClassifier(n_estimators=400, learning_rate=0.1, max_depth=3)\n",
    "xgb_clf.fit(tfidf_matrix_train, train['label'])"
   ]
  },
  {
   "cell_type": "code",
   "execution_count": 31,
   "id": "c10c9645",
   "metadata": {},
   "outputs": [],
   "source": [
    "pred_xgb = xgb_clf.predict(tfidf_matrix_test)"
   ]
  },
  {
   "cell_type": "code",
   "execution_count": 32,
   "id": "001b0d0e",
   "metadata": {},
   "outputs": [
    {
     "name": "stdout",
     "output_type": "stream",
     "text": [
      "accuracy score :  0.7353324641460235\n",
      "f1_score :  0.746385864715331\n",
      "recall :  0.6684782608695652\n"
     ]
    }
   ],
   "source": [
    "print(\"accuracy score : \", accuracy_score(test['label'], pred_xgb))\n",
    "print(\"f1_score : \", f1_score(pred_xgb, test['label']))\n",
    "print(\"recall : \", recall_score(pred_xgb, test['label']))"
   ]
  },
  {
   "cell_type": "markdown",
   "id": "49ee8e49",
   "metadata": {},
   "source": [
    "# RandomForestClassifier"
   ]
  },
  {
   "cell_type": "code",
   "execution_count": 33,
   "id": "c30adaeb",
   "metadata": {},
   "outputs": [],
   "source": [
    "rf_clf = RandomForestClassifier(max_depth=4, random_state=42)\n",
    "rf_clf.fit(tfidf_matrix_train, train['label'])\n",
    "\n",
    "pred_rf = rf_clf.predict(tfidf_matrix_test)"
   ]
  },
  {
   "cell_type": "code",
   "execution_count": 51,
   "id": "e5795f85",
   "metadata": {},
   "outputs": [
    {
     "data": {
      "text/html": [
       "<div>\n",
       "<style scoped>\n",
       "    .dataframe tbody tr th:only-of-type {\n",
       "        vertical-align: middle;\n",
       "    }\n",
       "\n",
       "    .dataframe tbody tr th {\n",
       "        vertical-align: top;\n",
       "    }\n",
       "\n",
       "    .dataframe thead th {\n",
       "        text-align: right;\n",
       "    }\n",
       "</style>\n",
       "<table border=\"1\" class=\"dataframe\">\n",
       "  <thead>\n",
       "    <tr style=\"text-align: right;\">\n",
       "      <th></th>\n",
       "      <th>model name</th>\n",
       "      <th>train score</th>\n",
       "      <th>test score</th>\n",
       "      <th>f1 score</th>\n",
       "      <th>accuracy score</th>\n",
       "      <th>recall score</th>\n",
       "    </tr>\n",
       "  </thead>\n",
       "  <tbody>\n",
       "    <tr>\n",
       "      <th>5</th>\n",
       "      <td>LGBMClassifier</td>\n",
       "      <td>0.944317</td>\n",
       "      <td>0.790104</td>\n",
       "      <td>0.787389</td>\n",
       "      <td>0.790104</td>\n",
       "      <td>0.810316</td>\n",
       "    </tr>\n",
       "    <tr>\n",
       "      <th>4</th>\n",
       "      <td>LogisticRegression</td>\n",
       "      <td>0.891328</td>\n",
       "      <td>0.802075</td>\n",
       "      <td>0.792815</td>\n",
       "      <td>0.802075</td>\n",
       "      <td>0.789517</td>\n",
       "    </tr>\n",
       "    <tr>\n",
       "      <th>6</th>\n",
       "      <td>XGBClassifier</td>\n",
       "      <td>0.805009</td>\n",
       "      <td>0.747805</td>\n",
       "      <td>0.760606</td>\n",
       "      <td>0.747805</td>\n",
       "      <td>0.835275</td>\n",
       "    </tr>\n",
       "    <tr>\n",
       "      <th>3</th>\n",
       "      <td>GradientBoostingClassifier</td>\n",
       "      <td>0.742142</td>\n",
       "      <td>0.714685</td>\n",
       "      <td>0.734102</td>\n",
       "      <td>0.714685</td>\n",
       "      <td>0.821131</td>\n",
       "    </tr>\n",
       "    <tr>\n",
       "      <th>2</th>\n",
       "      <td>AdaBoostClassifier</td>\n",
       "      <td>0.718990</td>\n",
       "      <td>0.697127</td>\n",
       "      <td>0.716474</td>\n",
       "      <td>0.697127</td>\n",
       "      <td>0.797837</td>\n",
       "    </tr>\n",
       "    <tr>\n",
       "      <th>0</th>\n",
       "      <td>RandomForestClassifier</td>\n",
       "      <td>0.622293</td>\n",
       "      <td>0.606943</td>\n",
       "      <td>0.342017</td>\n",
       "      <td>0.606943</td>\n",
       "      <td>0.212978</td>\n",
       "    </tr>\n",
       "    <tr>\n",
       "      <th>1</th>\n",
       "      <td>DecisionTreeClassifier</td>\n",
       "      <td>0.592256</td>\n",
       "      <td>0.583001</td>\n",
       "      <td>0.668359</td>\n",
       "      <td>0.583001</td>\n",
       "      <td>0.876040</td>\n",
       "    </tr>\n",
       "  </tbody>\n",
       "</table>\n",
       "</div>"
      ],
      "text/plain": [
       "                   model name  train score  test score  f1 score  \\\n",
       "5              LGBMClassifier     0.944317    0.790104  0.787389   \n",
       "4          LogisticRegression     0.891328    0.802075  0.792815   \n",
       "6               XGBClassifier     0.805009    0.747805  0.760606   \n",
       "3  GradientBoostingClassifier     0.742142    0.714685  0.734102   \n",
       "2          AdaBoostClassifier     0.718990    0.697127  0.716474   \n",
       "0      RandomForestClassifier     0.622293    0.606943  0.342017   \n",
       "1      DecisionTreeClassifier     0.592256    0.583001  0.668359   \n",
       "\n",
       "   accuracy score  recall score  \n",
       "5        0.790104      0.810316  \n",
       "4        0.802075      0.789517  \n",
       "6        0.747805      0.835275  \n",
       "3        0.714685      0.821131  \n",
       "2        0.697127      0.797837  \n",
       "0        0.606943      0.212978  \n",
       "1        0.583001      0.876040  "
      ]
     },
     "execution_count": 51,
     "metadata": {},
     "output_type": "execute_result"
    }
   ],
   "source": [
    "print(\"accuracy score : \", accuracy_score(pred_rf, test['label']))\n",
    "print(\"f1_score : \", f1_score(pred_rf, test['label']))\n",
    "print(\"recall : \", recall_score(pred_rf, test['label']))\n",
    "\n",
    "models = []\n",
    "models.append(('RandomForestClassifier', RandomForestClassifier(max_depth=4, random_state=42)))\n",
    "models.append(('DecisionTreeClassifier', DecisionTreeClassifier(max_depth=2, random_state=42)))\n",
    "models.append(('AdaBoostClassifier', AdaBoostClassifier()))\n",
    "models.append(('GradientBoostingClassifier', GradientBoostingClassifier(random_state=42)))\n",
    "models.append(('LogisticRegression', LogisticRegression(random_state=42)))\n",
    "models.append(('LGBMClassifier', LGBMClassifier(n_estimators=500)))\n",
    "models.append(('XGBClassifier', XGBClassifier(n_estimators=400, learning_rate=0.1, max_depth=3)))\n",
    "\n",
    "X_train, X_test, y_train, y_test = train_test_split(tfidf_matrix_train, train['label'], test_size=0.2, stratify=train['label'])\n",
    "\n",
    "train_score = []\n",
    "test_score = []\n",
    "names = []\n",
    "f1score = []\n",
    "accuracy = []\n",
    "recall = []\n",
    "for name, model in models:\n",
    "    clf = model\n",
    "    clf.fit(X_train, y_train)\n",
    "    \n",
    "    y_pred_train = clf.predict(X_train)\n",
    "    y_pred_test = clf.predict(X_test)\n",
    "    \n",
    "    names.append(name)\n",
    "    train_score.append(accuracy_score(y_train, y_pred_train))\n",
    "    test_score.append(accuracy_score(y_test, y_pred_test))\n",
    "    accuracy.append(accuracy_score(y_test, y_pred_test))\n",
    "    f1score.append(f1_score(y_test, y_pred_test))\n",
    "    recall.append(recall_score(y_test, y_pred_test))\n",
    "\n",
    "model_score_data = pd.DataFrame({'model name':names, \n",
    "                                 'train score':train_score, \n",
    "                                 'test score':test_score,\n",
    "                                 'f1 score': f1score,\n",
    "                                 'accuracy score': accuracy,\n",
    "                                 'recall score': recall})\n",
    "\n",
    "model_score_data = model_score_data.sort_values(by='train score', ascending=False)\n",
    "model_score_data"
   ]
  }
 ],
 "metadata": {
  "kernelspec": {
   "display_name": "Python 3 (ipykernel)",
   "language": "python",
   "name": "python3"
  },
  "language_info": {
   "codemirror_mode": {
    "name": "ipython",
    "version": 3
   },
   "file_extension": ".py",
   "mimetype": "text/x-python",
   "name": "python",
   "nbconvert_exporter": "python",
   "pygments_lexer": "ipython3",
   "version": "3.9.7"
  },
  "toc": {
   "base_numbering": 1,
   "nav_menu": {},
   "number_sections": true,
   "sideBar": true,
   "skip_h1_title": false,
   "title_cell": "Table of Contents",
   "title_sidebar": "Contents",
   "toc_cell": false,
   "toc_position": {},
   "toc_section_display": true,
   "toc_window_display": false
  }
 },
 "nbformat": 4,
 "nbformat_minor": 5
}
