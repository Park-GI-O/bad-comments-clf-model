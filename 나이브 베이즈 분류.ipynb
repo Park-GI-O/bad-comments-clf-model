{
 "cells": [
  {
   "cell_type": "code",
   "execution_count": 68,
   "id": "ac78928b",
   "metadata": {},
   "outputs": [],
   "source": [
    "import pandas as pd\n",
    "import nltk\n",
    "import numpy as np\n",
    "\n",
    "from konlpy.tag import Okt\n",
    "from sklearn.model_selection import train_test_split\n",
    "from sklearn.metrics import f1_score, accuracy_score, recall_score"
   ]
  },
  {
   "cell_type": "code",
   "execution_count": 52,
   "id": "8ab5fee9",
   "metadata": {},
   "outputs": [],
   "source": [
    "# content : 댓글\n",
    "# label : 0(hate), 1(not hate)"
   ]
  },
  {
   "cell_type": "code",
   "execution_count": 43,
   "id": "9476b90a",
   "metadata": {},
   "outputs": [
    {
     "data": {
      "text/html": [
       "<div>\n",
       "<style scoped>\n",
       "    .dataframe tbody tr th:only-of-type {\n",
       "        vertical-align: middle;\n",
       "    }\n",
       "\n",
       "    .dataframe tbody tr th {\n",
       "        vertical-align: top;\n",
       "    }\n",
       "\n",
       "    .dataframe thead th {\n",
       "        text-align: right;\n",
       "    }\n",
       "</style>\n",
       "<table border=\"1\" class=\"dataframe\">\n",
       "  <thead>\n",
       "    <tr style=\"text-align: right;\">\n",
       "      <th></th>\n",
       "      <th>content</th>\n",
       "      <th>label</th>\n",
       "    </tr>\n",
       "  </thead>\n",
       "  <tbody>\n",
       "    <tr>\n",
       "      <th>0</th>\n",
       "      <td>이종석 한효주 나오는 드라마 이후로 드라마 안봤다 2년전인가 좀 신선했었지 근데 이...</td>\n",
       "      <td>0</td>\n",
       "    </tr>\n",
       "    <tr>\n",
       "      <th>1</th>\n",
       "      <td>씨바알노무노무 술프노 오늘 저녁은 꽂등심이다ㅠㅜ</td>\n",
       "      <td>0</td>\n",
       "    </tr>\n",
       "    <tr>\n",
       "      <th>2</th>\n",
       "      <td>짱깨 꺼라ㅡ패쓰</td>\n",
       "      <td>0</td>\n",
       "    </tr>\n",
       "    <tr>\n",
       "      <th>3</th>\n",
       "      <td>그들의 사생활  고인이된 설리를 위해서라도 모두 조용하길 지금 누굴 탓한다고 무슨소...</td>\n",
       "      <td>1</td>\n",
       "    </tr>\n",
       "    <tr>\n",
       "      <th>4</th>\n",
       "      <td>아무리 법이 뭣같아도 무슨 자격으로 개인의 신상정보를 불특정 다수에게 공개하는지 도...</td>\n",
       "      <td>1</td>\n",
       "    </tr>\n",
       "  </tbody>\n",
       "</table>\n",
       "</div>"
      ],
      "text/plain": [
       "                                             content  label\n",
       "0  이종석 한효주 나오는 드라마 이후로 드라마 안봤다 2년전인가 좀 신선했었지 근데 이...      0\n",
       "1                         씨바알노무노무 술프노 오늘 저녁은 꽂등심이다ㅠㅜ      0\n",
       "2                                           짱깨 꺼라ㅡ패쓰      0\n",
       "3  그들의 사생활  고인이된 설리를 위해서라도 모두 조용하길 지금 누굴 탓한다고 무슨소...      1\n",
       "4  아무리 법이 뭣같아도 무슨 자격으로 개인의 신상정보를 불특정 다수에게 공개하는지 도...      1"
      ]
     },
     "execution_count": 43,
     "metadata": {},
     "output_type": "execute_result"
    }
   ],
   "source": [
    "data = pd.read_csv('data/hate_data.csv')\n",
    "data.head()"
   ]
  },
  {
   "cell_type": "code",
   "execution_count": 44,
   "id": "b0b698fe",
   "metadata": {},
   "outputs": [],
   "source": [
    "train, test = train_test_split(data, test_size=0.3, random_state=42)"
   ]
  },
  {
   "cell_type": "code",
   "execution_count": 46,
   "id": "cc3c3c8d",
   "metadata": {
    "scrolled": true
   },
   "outputs": [
    {
     "data": {
      "text/plain": [
       "((12527, 2), (5369, 2))"
      ]
     },
     "execution_count": 46,
     "metadata": {},
     "output_type": "execute_result"
    }
   ],
   "source": [
    "train.shape, test.shape"
   ]
  },
  {
   "cell_type": "code",
   "execution_count": 47,
   "id": "0133d3c5",
   "metadata": {},
   "outputs": [
    {
     "data": {
      "text/plain": [
       "0    6516\n",
       "1    6011\n",
       "Name: label, dtype: int64"
      ]
     },
     "execution_count": 47,
     "metadata": {},
     "output_type": "execute_result"
    }
   ],
   "source": [
    "train['label'].value_counts()"
   ]
  },
  {
   "cell_type": "code",
   "execution_count": 48,
   "id": "1f730aeb",
   "metadata": {},
   "outputs": [],
   "source": [
    "train.to_csv('data/train.csv', index=False)\n",
    "test.to_csv('data/test.csv', index=False)"
   ]
  },
  {
   "cell_type": "code",
   "execution_count": 50,
   "id": "6faa066c",
   "metadata": {},
   "outputs": [],
   "source": [
    "train = pd.read_csv('data/train.csv')\n",
    "test = pd.read_csv('data/test.csv')"
   ]
  },
  {
   "cell_type": "code",
   "execution_count": 14,
   "id": "a204be81",
   "metadata": {},
   "outputs": [],
   "source": [
    "content = train['content'].to_list()\n",
    "label = train['label'].to_list()\n",
    "\n",
    "train_list = list(zip(content, label))"
   ]
  },
  {
   "cell_type": "code",
   "execution_count": 16,
   "id": "9e0848a2",
   "metadata": {},
   "outputs": [],
   "source": [
    "okt = Okt()"
   ]
  },
  {
   "cell_type": "code",
   "execution_count": 17,
   "id": "a8c70738",
   "metadata": {},
   "outputs": [],
   "source": [
    "train_docs = [(okt.morphs(sentence[0]), sentence[1]) for sentence in train_list]"
   ]
  },
  {
   "cell_type": "code",
   "execution_count": 20,
   "id": "4d5c2315",
   "metadata": {},
   "outputs": [],
   "source": [
    "stopwords = pd.read_csv('https://bab2min.tistory.com/attachment/cfile2.uf@241D6F475873C2B1010DEA.txt', sep='\\t', header=None, names=['형태','품사','비율'])\n",
    "stopwords_list = stopwords['형태'].tolist()"
   ]
  },
  {
   "cell_type": "code",
   "execution_count": 23,
   "id": "d8b91eb0",
   "metadata": {},
   "outputs": [],
   "source": [
    "# stopword로 필요없는 문자 제거\n",
    "def process_text(text) :\n",
    "    clean_words = [word for word in text if word not in stopwords_list]\n",
    "    return clean_words"
   ]
  },
  {
   "cell_type": "code",
   "execution_count": 24,
   "id": "65df561f",
   "metadata": {},
   "outputs": [],
   "source": [
    "train_docs = process_text(train_docs)"
   ]
  },
  {
   "cell_type": "code",
   "execution_count": 25,
   "id": "025f6f40",
   "metadata": {},
   "outputs": [],
   "source": [
    "all_words = set([i for d in train_docs for i in d[0]])"
   ]
  },
  {
   "cell_type": "code",
   "execution_count": 28,
   "id": "645d98a2",
   "metadata": {},
   "outputs": [],
   "source": [
    "def term_exists(doc) :\n",
    "    return {word: (word in set(doc)) for word in all_words}"
   ]
  },
  {
   "cell_type": "code",
   "execution_count": 29,
   "id": "e752ead8",
   "metadata": {},
   "outputs": [],
   "source": [
    "train_xy = [(term_exists(d), c) for d, c in train_docs]"
   ]
  },
  {
   "cell_type": "code",
   "execution_count": 31,
   "id": "a4adf1d0",
   "metadata": {},
   "outputs": [
    {
     "name": "stdout",
     "output_type": "stream",
     "text": [
      "Most Informative Features\n",
      "                      새끼 = True                0 : 1      =    203.3 : 1.0\n",
      "                      존나 = True                0 : 1      =    103.6 : 1.0\n",
      "                      병신 = True                0 : 1      =     83.9 : 1.0\n",
      "                      지랄 = True                0 : 1      =     59.3 : 1.0\n",
      "                      깨문 = True                0 : 1      =     38.4 : 1.0\n",
      "                     대가리 = True                0 : 1      =     36.6 : 1.0\n",
      "                       ㅈ = True                0 : 1      =     34.7 : 1.0\n",
      "                      페미 = True                0 : 1      =     31.9 : 1.0\n",
      "                       쳐 = True                0 : 1      =     30.8 : 1.0\n",
      "                       년 = True                0 : 1      =     26.5 : 1.0\n"
     ]
    }
   ],
   "source": [
    "classifier = nltk.NaiveBayesClassifier.train(train_xy)\n",
    "classifier.show_most_informative_features()\n",
    "\n",
    "# \"새끼\"가 들어갔을 때 0일 확률이 203.3%"
   ]
  },
  {
   "cell_type": "code",
   "execution_count": 54,
   "id": "0351423c",
   "metadata": {},
   "outputs": [
    {
     "data": {
      "text/html": [
       "<div>\n",
       "<style scoped>\n",
       "    .dataframe tbody tr th:only-of-type {\n",
       "        vertical-align: middle;\n",
       "    }\n",
       "\n",
       "    .dataframe tbody tr th {\n",
       "        vertical-align: top;\n",
       "    }\n",
       "\n",
       "    .dataframe thead th {\n",
       "        text-align: right;\n",
       "    }\n",
       "</style>\n",
       "<table border=\"1\" class=\"dataframe\">\n",
       "  <thead>\n",
       "    <tr style=\"text-align: right;\">\n",
       "      <th></th>\n",
       "      <th>content</th>\n",
       "      <th>label</th>\n",
       "    </tr>\n",
       "  </thead>\n",
       "  <tbody>\n",
       "    <tr>\n",
       "      <th>5364</th>\n",
       "      <td>중부고속도로 하행 진천터널 즈음 터널 진입하면 허구헌날 막힘 시발 뒤에 화물차 따라...</td>\n",
       "      <td>0</td>\n",
       "    </tr>\n",
       "    <tr>\n",
       "      <th>5365</th>\n",
       "      <td>주말드라마를 기다려서 보긴 거의 처음아쉬운건 2화분량을 하루에 다 하는 거ㅜㅜㅜ 저...</td>\n",
       "      <td>1</td>\n",
       "    </tr>\n",
       "    <tr>\n",
       "      <th>5366</th>\n",
       "      <td>응원안한다 이용진 너무 건방져 보인다 주변에 꼭 용진이처럼 근거없는 자신감으로 뭉친...</td>\n",
       "      <td>0</td>\n",
       "    </tr>\n",
       "    <tr>\n",
       "      <th>5367</th>\n",
       "      <td>전세계 어디도 저렇게 돈 많이 들어가서 적자보는 의료 시스템은 없음고로 이국종 또라이</td>\n",
       "      <td>0</td>\n",
       "    </tr>\n",
       "    <tr>\n",
       "      <th>5368</th>\n",
       "      <td>노라조 화이팅</td>\n",
       "      <td>1</td>\n",
       "    </tr>\n",
       "  </tbody>\n",
       "</table>\n",
       "</div>"
      ],
      "text/plain": [
       "                                                content  label\n",
       "5364  중부고속도로 하행 진천터널 즈음 터널 진입하면 허구헌날 막힘 시발 뒤에 화물차 따라...      0\n",
       "5365  주말드라마를 기다려서 보긴 거의 처음아쉬운건 2화분량을 하루에 다 하는 거ㅜㅜㅜ 저...      1\n",
       "5366  응원안한다 이용진 너무 건방져 보인다 주변에 꼭 용진이처럼 근거없는 자신감으로 뭉친...      0\n",
       "5367    전세계 어디도 저렇게 돈 많이 들어가서 적자보는 의료 시스템은 없음고로 이국종 또라이      0\n",
       "5368                                            노라조 화이팅      1"
      ]
     },
     "execution_count": 54,
     "metadata": {},
     "output_type": "execute_result"
    }
   ],
   "source": [
    "test.tail()"
   ]
  },
  {
   "cell_type": "code",
   "execution_count": 62,
   "id": "08903eae",
   "metadata": {},
   "outputs": [],
   "source": [
    "pred = []\n",
    "for sentence in test['content'] :\n",
    "    pred.append(classifier.classify(term_exists(okt.morphs(sentence))))"
   ]
  },
  {
   "cell_type": "code",
   "execution_count": 78,
   "id": "1e42e96b",
   "metadata": {},
   "outputs": [
    {
     "name": "stdout",
     "output_type": "stream",
     "text": [
      "f1 score : 0.8265\n",
      "accuracy score : 0.8266\n",
      "recall score : 0.7669\n"
     ]
    }
   ],
   "source": [
    "print('f1 score :', np.round(f1_score(pred, test['label']), 4))\n",
    "print('accuracy score :',np.round(accuracy_score(pred, test['label']), 4))\n",
    "print('recall score :', np.round(recall_score(pred, test['label']), 4))"
   ]
  },
  {
   "cell_type": "code",
   "execution_count": 80,
   "id": "a9710f32",
   "metadata": {},
   "outputs": [],
   "source": [
    "content = test['content'].to_list()\n",
    "label = test['label'].to_list()\n",
    "test_list = list(zip(content, label))"
   ]
  },
  {
   "cell_type": "code",
   "execution_count": 81,
   "id": "2f97ca3c",
   "metadata": {},
   "outputs": [],
   "source": [
    "test_docs = [(okt.morphs(sentence[0]), sentence[1]) for sentence in test_list]"
   ]
  },
  {
   "cell_type": "code",
   "execution_count": 82,
   "id": "3c543c08",
   "metadata": {},
   "outputs": [],
   "source": [
    "test_docs = process_text(test_docs)"
   ]
  },
  {
   "cell_type": "code",
   "execution_count": 84,
   "id": "f449f2c0",
   "metadata": {},
   "outputs": [],
   "source": [
    "test_xy = [(term_exists(d), c) for d, c in test_docs]"
   ]
  },
  {
   "cell_type": "code",
   "execution_count": 85,
   "id": "02ac86c8",
   "metadata": {},
   "outputs": [
    {
     "data": {
      "text/plain": [
       "0.8265971316818774"
      ]
     },
     "execution_count": 85,
     "metadata": {},
     "output_type": "execute_result"
    }
   ],
   "source": [
    "nltk.classify.accuracy(classifier, test_xy)"
   ]
  }
 ],
 "metadata": {
  "kernelspec": {
   "display_name": "Python 3 (ipykernel)",
   "language": "python",
   "name": "python3"
  },
  "language_info": {
   "codemirror_mode": {
    "name": "ipython",
    "version": 3
   },
   "file_extension": ".py",
   "mimetype": "text/x-python",
   "name": "python",
   "nbconvert_exporter": "python",
   "pygments_lexer": "ipython3",
   "version": "3.9.7"
  },
  "toc": {
   "base_numbering": 1,
   "nav_menu": {},
   "number_sections": true,
   "sideBar": true,
   "skip_h1_title": false,
   "title_cell": "Table of Contents",
   "title_sidebar": "Contents",
   "toc_cell": false,
   "toc_position": {},
   "toc_section_display": true,
   "toc_window_display": false
  }
 },
 "nbformat": 4,
 "nbformat_minor": 5
}
